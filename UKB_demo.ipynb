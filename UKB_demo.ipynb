{
 "cells": [
  {
   "cell_type": "code",
   "execution_count": 1,
   "outputs": [],
   "source": [
    "import os\n",
    "import nibabel as nib\n",
    "import numpy as np\n",
    "from tqdm import tqdm\n",
    "from image_utils import *\n",
    "import torch\n",
    "import networks\n",
    "from DegradProcess import batch_degrade, MotionDegrad\n",
    "from torch import optim\n",
    "import torch.nn.functional as F\n",
    "import torch\n",
    "\n",
    "gpu_id = 0\n",
    "device = torch.device(\"cuda:{:d}\".format(gpu_id) if torch.cuda.is_available() else \"cpu\")"
   ],
   "metadata": {
    "collapsed": false,
    "pycharm": {
     "name": "#%%\n"
    }
   }
  },
  {
   "cell_type": "markdown",
   "source": [
    "### Load UKBB SA data"
   ],
   "metadata": {
    "collapsed": false,
    "pycharm": {
     "name": "#%% md\n"
    }
   }
  },
  {
   "cell_type": "code",
   "execution_count": 2,
   "outputs": [],
   "source": [
    "data_dir = './data/UKB_demo'\n",
    "seg_file_path = os.path.join(data_dir, 'demo_crop.nii.gz')\n",
    "seg_nib = nib.load(seg_file_path)\n",
    "seg_data = seg_nib.get_fdata()\n",
    "seg_LR = torch.Tensor(label2onehot(seg_data)[np.newaxis,:]).to(device)"
   ],
   "metadata": {
    "collapsed": false,
    "pycharm": {
     "name": "#%%\n"
    }
   }
  },
  {
   "cell_type": "markdown",
   "source": [
    "### Load generative models of HR segmentation"
   ],
   "metadata": {
    "collapsed": false,
    "pycharm": {
     "name": "#%% md\n"
    }
   }
  },
  {
   "cell_type": "code",
   "execution_count": 3,
   "outputs": [
    {
     "data": {
      "text/plain": "<All keys matched successfully>"
     },
     "execution_count": 3,
     "metadata": {},
     "output_type": "execute_result"
    }
   ],
   "source": [
    "# load model\n",
    "z_dim, beta = 64, 1e-3\n",
    "model = networks.GenVAE3D(z_dim=z_dim, img_size=128, depth=64)\n",
    "model.to(device)\n",
    "model_path = 'models/betaVAE/VAECE_zdim_{:d}_epoch_100_beta_{:.2E}_alpha.pt'.format(z_dim, beta)\n",
    "model.load_state_dict(torch.load(model_path, map_location=device))"
   ],
   "metadata": {
    "collapsed": false,
    "pycharm": {
     "name": "#%%\n"
    }
   }
  },
  {
   "cell_type": "markdown",
   "source": [
    "### Enhance the segmentation by joint motion correction and super resolution"
   ],
   "metadata": {
    "collapsed": false,
    "pycharm": {
     "name": "#%% md\n"
    }
   }
  },
  {
   "cell_type": "code",
   "execution_count": 4,
   "outputs": [],
   "source": [
    "MotionLayer = MotionDegrad(newD=seg_LR.shape[-3], newH=seg_LR.shape[-2], newW=seg_LR.shape[-1], mode='bilinear').to(device)\n",
    "MotionLayer.to(device)\n",
    "\n",
    "# LATENT OPTIMISATION\n",
    "z0 = torch.zeros((1, z_dim)).to(device)\n",
    "seg_map = torch.argmax(seg_LR, axis=1)\n",
    "\n",
    "z_recall = z0.clone().detach().requires_grad_(True)\n",
    "\n",
    "# optimizer for z\n",
    "optimizer1 = optim.Adam([{'params': z_recall}], lr=0.2)\n",
    "scheduler1 = optim.lr_scheduler.StepLR(optimizer1, step_size=100, gamma=0.5)\n",
    "# optimizer for motion\n",
    "optimizer2 = optim.Adam(MotionLayer.parameters(), lr=0.1)\n",
    "scheduler2 = optim.lr_scheduler.StepLR(optimizer2, step_size=100, gamma=0.5)\n",
    "\n",
    "for k in (range(0, 500)):\n",
    "    # E - step, estimate motion\n",
    "    optimizer2.zero_grad()\n",
    "    recon_x = model.decode(z_recall)\n",
    "    recon_x = MotionLayer(recon_x)\n",
    "    loss = F.cross_entropy(recon_x, seg_map,reduction='mean')\n",
    "    loss.backward()\n",
    "    optimizer2.step()\n",
    "\n",
    "    # M - step, estimate z\n",
    "    optimizer1.zero_grad()\n",
    "    recon_x = model.decode(z_recall)\n",
    "    recon_x = MotionLayer(recon_x)\n",
    "    loss = F.cross_entropy(recon_x, seg_map, reduction='mean')\n",
    "    loss.backward()\n",
    "    optimizer1.step()\n",
    "\n",
    "    scheduler1.step()\n",
    "    scheduler2.step()\n",
    "\n",
    "SR_data = onehot2label(model.decode(z_recall).squeeze().detach().cpu().numpy())"
   ],
   "metadata": {
    "collapsed": false,
    "pycharm": {
     "name": "#%%\n"
    }
   }
  },
  {
   "cell_type": "code",
   "execution_count": 5,
   "outputs": [
    {
     "data": {
      "text/plain": "<Figure size 72x216 with 3 Axes>",
      "image/png": "[encoded data removed]"
     },
     "execution_count": 5,
     "metadata": {},
     "output_type": "execute_result"
    },
    {
     "data": {
      "text/plain": "<Figure size 72x216 with 3 Axes>",
      "image/png": "[encoded data removed]"
     },
     "metadata": {},
     "output_type": "display_data"
    }
   ],
   "source": [
    "vol3view(SR_data)"
   ],
   "metadata": {
    "collapsed": false,
    "pycharm": {
     "name": "#%%\n"
    }
   }
  }
 ],
 "metadata": {
  "kernelspec": {
   "display_name": "Python 3",
   "language": "python",
   "name": "python3"
  },
  "language_info": {
   "codemirror_mode": {
    "name": "ipython",
    "version": 2
   },
   "file_extension": ".py",
   "mimetype": "text/x-python",
   "name": "python",
   "nbconvert_exporter": "python",
   "pygments_lexer": "ipython2",
   "version": "2.7.6"
  }
 },
 "nbformat": 4,
 "nbformat_minor": 0
}